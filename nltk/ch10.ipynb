{
 "cells": [
  {
   "cell_type": "code",
   "execution_count": 15,
   "metadata": {
    "collapsed": false
   },
   "outputs": [],
   "source": [
    "import nltk\n",
    "from nltk import load_parser\n",
    "from nltk.sem import chat80"
   ]
  },
  {
   "cell_type": "code",
   "execution_count": 2,
   "metadata": {
    "collapsed": false
   },
   "outputs": [
    {
     "name": "stdout",
     "output_type": "stream",
     "text": [
      "% start S\n",
      "S[SEM=(?np + WHERE + ?vp)] -> NP[SEM=?np] VP[SEM=?vp]\n",
      "VP[SEM=(?v + ?pp)] -> IV[SEM=?v] PP[SEM=?pp]\n",
      "VP[SEM=(?v + ?ap)] -> IV[SEM=?v] AP[SEM=?ap]\n",
      "NP[SEM=(?det + ?n)] -> Det[SEM=?det] N[SEM=?n]\n",
      "PP[SEM=(?p + ?np)] -> P[SEM=?p] NP[SEM=?np]\n",
      "AP[SEM=?pp] -> A[SEM=?a] PP[SEM=?pp]\n",
      "NP[SEM='Country=\"greece\"'] -> 'Greece'\n",
      "NP[SEM='Country=\"china\"'] -> 'China'\n",
      "Det[SEM='SELECT'] -> 'Which' | 'What'\n",
      "N[SEM='City FROM city_table'] -> 'cities'\n",
      "IV[SEM=''] -> 'are'\n",
      "A[SEM=''] -> 'located'\n",
      "P[SEM=''] -> 'in'\n"
     ]
    }
   ],
   "source": [
    "nltk.data.show_cfg('grammars/book_grammars/sql0.fcfg')"
   ]
  },
  {
   "cell_type": "code",
   "execution_count": 13,
   "metadata": {
    "collapsed": false
   },
   "outputs": [
    {
     "name": "stdout",
     "output_type": "stream",
     "text": [
      "|.W.c.a.l.i.C.|\n",
      "Leaf Init Rule:\n",
      "|[-] . . . . .| [0:1] 'What'\n",
      "|. [-] . . . .| [1:2] 'cities'\n",
      "|. . [-] . . .| [2:3] 'are'\n",
      "|. . . [-] . .| [3:4] 'located'\n",
      "|. . . . [-] .| [4:5] 'in'\n",
      "|. . . . . [-]| [5:6] 'China'\n",
      "Feature Bottom Up Predict Combine Rule:\n",
      "|[-] . . . . .| [0:1] Det[SEM='SELECT'] -> 'What' *\n",
      "Feature Bottom Up Predict Combine Rule:\n",
      "|[-> . . . . .| [0:1] NP[SEM=(?det+?n)] -> Det[SEM=?det] * N[SEM=?n] {?det: 'SELECT'}\n",
      "Feature Bottom Up Predict Combine Rule:\n",
      "|. [-] . . . .| [1:2] N[SEM='City FROM city_table'] -> 'cities' *\n",
      "Feature Single Edge Fundamental Rule:\n",
      "|[---] . . . .| [0:2] NP[SEM=(SELECT, City FROM city_table)] -> Det[SEM='SELECT'] N[SEM='City FROM city_table'] *\n",
      "Feature Bottom Up Predict Combine Rule:\n",
      "|[---> . . . .| [0:2] S[SEM=(?np+WHERE+?vp)] -> NP[SEM=?np] * VP[SEM=?vp] {?np: (SELECT, City FROM city_table)}\n",
      "Feature Bottom Up Predict Combine Rule:\n",
      "|. . [-] . . .| [2:3] IV[SEM=''] -> 'are' *\n",
      "Feature Bottom Up Predict Combine Rule:\n",
      "|. . [-> . . .| [2:3] VP[SEM=(?v+?pp)] -> IV[SEM=?v] * PP[SEM=?pp] {?v: ''}\n",
      "|. . [-> . . .| [2:3] VP[SEM=(?v+?ap)] -> IV[SEM=?v] * AP[SEM=?ap] {?v: ''}\n",
      "Feature Bottom Up Predict Combine Rule:\n",
      "|. . . [-] . .| [3:4] A[SEM=''] -> 'located' *\n",
      "Feature Bottom Up Predict Combine Rule:\n",
      "|. . . [-> . .| [3:4] AP[SEM=?pp] -> A[SEM=?a] * PP[SEM=?pp] {?a: ''}\n",
      "Feature Bottom Up Predict Combine Rule:\n",
      "|. . . . [-] .| [4:5] P[SEM=''] -> 'in' *\n",
      "Feature Bottom Up Predict Combine Rule:\n",
      "|. . . . [-> .| [4:5] PP[SEM=(?p+?np)] -> P[SEM=?p] * NP[SEM=?np] {?p: ''}\n",
      "Feature Bottom Up Predict Combine Rule:\n",
      "|. . . . . [-]| [5:6] NP[SEM='Country=\"china\"'] -> 'China' *\n",
      "Feature Bottom Up Predict Combine Rule:\n",
      "|. . . . . [->| [5:6] S[SEM=(?np+WHERE+?vp)] -> NP[SEM=?np] * VP[SEM=?vp] {?np: 'Country=\"china\"'}\n",
      "Feature Single Edge Fundamental Rule:\n",
      "|. . . . [---]| [4:6] PP[SEM=(, Country=\"china\")] -> P[SEM=''] NP[SEM='Country=\"china\"'] *\n",
      "Feature Single Edge Fundamental Rule:\n",
      "|. . . [-----]| [3:6] AP[SEM=(, Country=\"china\")] -> A[SEM=''] PP[SEM=(, Country=\"china\")] *\n",
      "Feature Single Edge Fundamental Rule:\n",
      "|. . [-------]| [2:6] VP[SEM=(, , Country=\"china\")] -> IV[SEM=''] AP[SEM=(, Country=\"china\")] *\n",
      "Feature Single Edge Fundamental Rule:\n",
      "|[===========]| [0:6] S[SEM=(SELECT, City FROM city_table, WHERE, , , Country=\"china\")] -> NP[SEM=(SELECT, City FROM city_table)] VP[SEM=(, , Country=\"china\")] *\n"
     ]
    },
    {
     "data": {
      "text/plain": [
       "u'SELECT City FROM city_table WHERE   Country=\"china\"'"
      ]
     },
     "execution_count": 13,
     "metadata": {},
     "output_type": "execute_result"
    }
   ],
   "source": [
    "cp = load_parser('grammars/book_grammars/sql0.fcfg', trace=3)\n",
    "query = 'What cities are located in China'\n",
    "trees = cp.parse_all(query.split())\n",
    "answer = trees[0].label()['SEM']\n",
    "q = ' '.join(answer)\n",
    "q"
   ]
  },
  {
   "cell_type": "code",
   "execution_count": 17,
   "metadata": {
    "collapsed": false
   },
   "outputs": [
    {
     "name": "stdout",
     "output_type": "stream",
     "text": [
      "canton chungking dairen harbin kowloon mukden peking shanghai sian tientsin\n"
     ]
    }
   ],
   "source": [
    "rows = chat80.sql_query('corpora/city_database/city.db', q)\n",
    "for r in rows: print(r[0]),"
   ]
  }
 ],
 "metadata": {
  "kernelspec": {
   "display_name": "Python 2",
   "language": "python",
   "name": "python2"
  },
  "language_info": {
   "codemirror_mode": {
    "name": "ipython",
    "version": 2
   },
   "file_extension": ".py",
   "mimetype": "text/x-python",
   "name": "python",
   "nbconvert_exporter": "python",
   "pygments_lexer": "ipython2",
   "version": "2.7.9"
  }
 },
 "nbformat": 4,
 "nbformat_minor": 0
}
