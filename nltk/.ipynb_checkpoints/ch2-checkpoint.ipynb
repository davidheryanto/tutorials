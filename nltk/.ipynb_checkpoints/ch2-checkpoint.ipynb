{
 "cells": [
  {
   "cell_type": "code",
   "execution_count": 1,
   "metadata": {
    "collapsed": true
   },
   "outputs": [],
   "source": [
    "import nltk\n",
    "from nltk.corpus import gutenberg"
   ]
  },
  {
   "cell_type": "code",
   "execution_count": 3,
   "metadata": {
    "collapsed": false
   },
   "outputs": [
    {
     "name": "stdout",
     "output_type": "stream",
     "text": [
      "[u'austen-emma.txt', u'austen-persuasion.txt', u'austen-sense.txt', u'bible-kjv.txt', u'blake-poems.txt', u'bryant-stories.txt', u'burgess-busterbrown.txt', u'carroll-alice.txt', u'chesterton-ball.txt', u'chesterton-brown.txt', u'chesterton-thursday.txt', u'edgeworth-parents.txt', u'melville-moby_dick.txt', u'milton-paradise.txt', u'shakespeare-caesar.txt', u'shakespeare-hamlet.txt', u'shakespeare-macbeth.txt', u'whitman-leaves.txt']\n"
     ]
    }
   ],
   "source": [
    "print(gutenberg.fileids())"
   ]
  },
  {
   "cell_type": "code",
   "execution_count": 12,
   "metadata": {
    "collapsed": false
   },
   "outputs": [
    {
     "name": "stdout",
     "output_type": "stream",
     "text": [
      "(192427, <class 'nltk.corpus.reader.util.StreamBackedCorpusView'>)\n",
      "['_MAX_REPR_SIZE', '_cache', '_current_blocknum', '_current_toknum', '_encoding', '_eofpos', '_fileid', '_filepos', '_len', '_open', '_stream', '_toknum', 'close', 'count', 'fileid', 'index', 'iterate_from', 'read_block', 'unicode_repr']\n",
      "[u'[', u'Emma', u'by', u'Jane', u'Austen', u'1816', u']', u'VOLUME', u'I', u'CHAPTER', u'I', u'Emma', u'Woodhouse', u',', u'handsome', u',', u'clever', u',', u'and', u'rich', u',', u'with', u'a', u'comfortable', u'home', u'and', u'happy', u'disposition', u',', u'seemed']\n"
     ]
    }
   ],
   "source": [
    "emma = nltk.corpus.gutenberg.words('austen-emma.txt')\n",
    "print(len(emma), type(emma))\n",
    "print([attr for attr in dir(emma) if not attr.startswith('__')])\n",
    "print(emma[:30])"
   ]
  },
  {
   "cell_type": "code",
   "execution_count": 16,
   "metadata": {
    "collapsed": false
   },
   "outputs": [
    {
     "name": "stdout",
     "output_type": "stream",
     "text": [
      "(4, 24, 26, u'austen-emma.txt')\n",
      "(4, 26, 16, u'austen-persuasion.txt')\n",
      "(4, 28, 22, u'austen-sense.txt')\n",
      "(4, 33, 79, u'bible-kjv.txt')\n",
      "(4, 19, 5, u'blake-poems.txt')\n",
      "(4, 19, 14, u'bryant-stories.txt')\n",
      "(4, 17, 12, u'burgess-busterbrown.txt')\n",
      "(4, 20, 12, u'carroll-alice.txt')\n",
      "(4, 20, 11, u'chesterton-ball.txt')\n",
      "(4, 22, 11, u'chesterton-brown.txt')\n",
      "(4, 18, 10, u'chesterton-thursday.txt')\n",
      "(4, 20, 24, u'edgeworth-parents.txt')\n",
      "(4, 25, 15, u'melville-moby_dick.txt')\n",
      "(4, 52, 10, u'milton-paradise.txt')\n",
      "(4, 11, 8, u'shakespeare-caesar.txt')\n",
      "(4, 12, 7, u'shakespeare-hamlet.txt')\n",
      "(4, 12, 6, u'shakespeare-macbeth.txt')\n",
      "(4, 36, 12, u'whitman-leaves.txt')\n"
     ]
    }
   ],
   "source": [
    "for fileid in gutenberg.fileids():\n",
    "    n_chars = len(gutenberg.raw(fileid))\n",
    "    n_words = len(gutenberg.words(fileid))\n",
    "    n_sents = len(gutenberg.sents(fileid))\n",
    "    n_vocab = len(set([w.lower() for w in gutenberg.words(fileid)]))\n",
    "    print(int(n_chars / n_words), int(n_words / n_sents), int(n_words / n_vocab), fileid)"
   ]
  },
  {
   "cell_type": "code",
   "execution_count": 17,
   "metadata": {
    "collapsed": true
   },
   "outputs": [],
   "source": [
    "# Brown corpus\n",
    "from nltk.corpus import brown"
   ]
  },
  {
   "cell_type": "code",
   "execution_count": 18,
   "metadata": {
    "collapsed": false
   },
   "outputs": [
    {
     "name": "stdout",
     "output_type": "stream",
     "text": [
      "[u'adventure', u'belles_lettres', u'editorial', u'fiction', u'government', u'hobbies', u'humor', u'learned', u'lore', u'mystery', u'news', u'religion', u'reviews', u'romance', u'science_fiction']\n"
     ]
    }
   ],
   "source": [
    "print(brown.categories())"
   ]
  },
  {
   "cell_type": "code",
   "execution_count": 21,
   "metadata": {
    "collapsed": false
   },
   "outputs": [
    {
     "name": "stdout",
     "output_type": "stream",
     "text": [
      "can:94\n",
      "could:87\n"
     ]
    }
   ],
   "source": [
    "news_text = brown.words(categories='news')\n",
    "fdist = nltk.FreqDist([w.lower() for w in news_text])\n",
    "modals = ['can', 'could']  # ...\n",
    "for m in modals:\n",
    "    print m + ':' + str(fdist[m])"
   ]
  },
  {
   "cell_type": "code",
   "execution_count": 22,
   "metadata": {
    "collapsed": false
   },
   "outputs": [
    {
     "name": "stdout",
     "output_type": "stream",
     "text": [
      "                 can could  may will \n",
      "      adventure   46  151    5   50 \n",
      " belles_lettres  246  213  207  236 \n",
      "      editorial  121   56   74  233 \n",
      "        fiction   37  166    8   52 \n",
      "     government  117   38  153  244 \n",
      "        hobbies  268   58  131  264 \n",
      "          humor   16   30    8   13 \n",
      "        learned  365  159  324  340 \n",
      "           lore  170  141  165  175 \n",
      "        mystery   42  141   13   20 \n",
      "           news   93   86   66  389 \n",
      "       religion   82   59   78   71 \n",
      "        reviews   45   40   45   58 \n",
      "        romance   74  193   11   43 \n",
      "science_fiction   16   49    4   16 \n"
     ]
    }
   ],
   "source": [
    "cfd = nltk.ConditionalFreqDist((genre, word) for genre in brown.categories()\n",
    "                                             for word in brown.words(categories=genre))\n",
    "genres = ['news', 'fiction', 'government']\n",
    "modals = ['can', 'could', 'may', 'will']\n",
    "cfd.tabulate(condition=genres, samples=modals)"
   ]
  },
  {
   "cell_type": "code",
   "execution_count": 25,
   "metadata": {
    "collapsed": false
   },
   "outputs": [
    {
     "data": {
      "image/png": "[encoded data removed]",
      "text/plain": [
       "<matplotlib.figure.Figure at 0x7f969864fe50>"
      ]
     },
     "metadata": {},
     "output_type": "display_data"
    }
   ],
   "source": [
    "from nltk.corpus import udhr\n",
    "pylab.rcParams['figure.figsize'] = 13, 5\n",
    "nltk.FreqDist(udhr.raw('Afrikaans-Latin1')).plot()"
   ]
  },
  {
   "cell_type": "code",
   "execution_count": 26,
   "metadata": {
    "collapsed": false
   },
   "outputs": [
    {
     "data": {
      "text/plain": [
       "[('a1', 'b1'),\n",
       " ('a1', 'b1'),\n",
       " ('a2', 'b1'),\n",
       " ('a2', 'b1'),\n",
       " ('a2', 'b1'),\n",
       " ('a2', 'b1')]"
      ]
     },
     "execution_count": 26,
     "metadata": {},
     "output_type": "execute_result"
    }
   ],
   "source": [
    "[(a, b) for a in ['a1', 'a2', 'a2'] for b in ['b1', 'b1']]"
   ]
  },
  {
   "cell_type": "code",
   "execution_count": 27,
   "metadata": {
    "collapsed": true
   },
   "outputs": [],
   "source": [
    "english_vocab = set(w.lower() for w in nltk.corpus.words.words())"
   ]
  },
  {
   "cell_type": "code",
   "execution_count": 28,
   "metadata": {
    "collapsed": false
   },
   "outputs": [
    {
     "data": {
      "text/plain": [
       "234377"
      ]
     },
     "execution_count": 28,
     "metadata": {},
     "output_type": "execute_result"
    }
   ],
   "source": [
    "len(english_vocab)"
   ]
  },
  {
   "cell_type": "code",
   "execution_count": 33,
   "metadata": {
    "collapsed": false
   },
   "outputs": [
    {
     "name": "stdout",
     "output_type": "stream",
     "text": [
      "[u'ogler', u'nori', u'loren', u'virole', u'goer', u'grove', u'grovel', u'gorlin', u'noir', u'ringle', u'vergi', u'oiler', u'vigor', u'lovering', u'linger', u'region', u'rivel', u'riven', u'reoil', u'lire', u'roil', u'livre', u'girn', u'giro', u'girl', u'over', u'lienor', u'liver', u'vern', u'reign', u'neri', u'overling', u'govern', u'revolving', u'enrol', u'involver', u'grein', u'gore', u'lover', u'glor', u'oner', u'vier', u'rive', u'inger', u'ergon', u'lorien', u'glover', u'viver', u'goneril', u'veri', u'genro', u'roving', u'regin', u'renvoi', u'goner', u'groin', u'irone', u'grin', u'vireo', u'levir', u'lorn', u'lori', u'lore', u'loir', u'viner', u'rove', u'livor', u'iron', u'liner', u'negro', u'glore', u'longer', u'ignore', u'role', u'ringe', u'rine', u'ring', u'viron', u'norie', u'oriel', u'rein', u'virl', u'vire', u'noiler', u'ogre', u'rigol', u'elinor', u'giver', u'orle', u'rong', u'rone', u'inro', u'rile', u'oliver', u'lier', u'rigel', u'nigre', u'violer', u'virgo']\n"
     ]
    }
   ],
   "source": [
    "puzzle_letters = nltk.FreqDist('egivrvonl')\n",
    "obligatory = 'r'\n",
    "print([w for w in english_vocab if len(w) >= 4\n",
    " and obligatory in w\n",
    " and nltk.FreqDist(w) <= puzzle_letters])"
   ]
  },
  {
   "cell_type": "code",
   "execution_count": 39,
   "metadata": {
    "collapsed": false
   },
   "outputs": [],
   "source": [
    "names = nltk.corpus.names"
   ]
  },
  {
   "cell_type": "code",
   "execution_count": 41,
   "metadata": {
    "collapsed": false
   },
   "outputs": [
    {
     "name": "stdout",
     "output_type": "stream",
     "text": [
      "[u'female.txt', u'male.txt']\n",
      "(5001, 2943)\n"
     ]
    }
   ],
   "source": [
    "print(names.fileids())\n",
    "print(len(names.words('female.txt')), len(names.words('male.txt')))"
   ]
  },
  {
   "cell_type": "code",
   "execution_count": 42,
   "metadata": {
    "collapsed": false
   },
   "outputs": [
    {
     "data": {
      "image/png": "[encoded data removed]",
      "text/plain": [
       "<matplotlib.figure.Figure at 0x7f9698ccf5d0>"
      ]
     },
     "metadata": {},
     "output_type": "display_data"
    }
   ],
   "source": [
    "cfd = nltk.ConditionalFreqDist((fileid, name[-1])\n",
    "                               for fileid in names.fileids()\n",
    "                               for name in names.words(fileid))\n",
    "cfd.plot()"
   ]
  },
  {
   "cell_type": "markdown",
   "metadata": {},
   "source": [
    "### Pronouncing Dictionary"
   ]
  },
  {
   "cell_type": "code",
   "execution_count": 2,
   "metadata": {
    "collapsed": false
   },
   "outputs": [
    {
     "name": "stdout",
     "output_type": "stream",
     "text": [
      "133737\n",
      "(u'explorer', [u'IH0', u'K', u'S', u'P', u'L', u'AO1', u'R', u'ER0'])\n",
      "(u'explorers', [u'IH0', u'K', u'S', u'P', u'L', u'AO1', u'R', u'ER0', u'Z'])\n"
     ]
    }
   ],
   "source": [
    "entries = nltk.corpus.cmudict.entries()\n",
    "print(len(entries))\n",
    "for entry in entries[39943:39945]: \n",
    "    print(entry)"
   ]
  },
  {
   "cell_type": "code",
   "execution_count": 4,
   "metadata": {
    "collapsed": false
   },
   "outputs": [
    {
     "data": {
      "text/plain": [
       "[u'autumn', u'column', u'condemn', u'damn', u'goddamn', u'hymn', u'solemn']"
      ]
     },
     "execution_count": 4,
     "metadata": {},
     "output_type": "execute_result"
    }
   ],
   "source": [
    "[w for w, pron in entries if pron[-1] == 'M' and w[-1] == 'n']"
   ]
  },
  {
   "cell_type": "code",
   "execution_count": 7,
   "metadata": {
    "collapsed": true
   },
   "outputs": [],
   "source": [
    "def stress(pron):\n",
    "    return [char for phone in pron for char in phone if char.isdigit()]"
   ]
  },
  {
   "cell_type": "code",
   "execution_count": 10,
   "metadata": {
    "collapsed": false
   },
   "outputs": [
    {
     "data": {
      "text/plain": [
       "[u'abbreviated',\n",
       " u'abbreviated',\n",
       " u'abbreviating',\n",
       " u'accelerated',\n",
       " u'accelerating']"
      ]
     },
     "execution_count": 10,
     "metadata": {},
     "output_type": "execute_result"
    }
   ],
   "source": [
    "[w for w, pron in entries if stress(pron) == ['0','1','0','2','0']][:5]"
   ]
  },
  {
   "cell_type": "code",
   "execution_count": 12,
   "metadata": {
    "collapsed": false
   },
   "outputs": [
    {
     "data": {
      "text/plain": [
       "[u'abbreviation',\n",
       " u'abbreviations',\n",
       " u'abomination',\n",
       " u'abortifacient',\n",
       " u'abortifacients']"
      ]
     },
     "execution_count": 12,
     "metadata": {},
     "output_type": "execute_result"
    }
   ],
   "source": [
    "[w for w, pron in entries if stress(pron) == ['0','2','0','1','0']][:5]"
   ]
  },
  {
   "cell_type": "code",
   "execution_count": 16,
   "metadata": {
    "collapsed": false
   },
   "outputs": [
    {
     "name": "stdout",
     "output_type": "stream",
     "text": [
      "[(u'P-P', u'paap'), (u'P-P', u'paape'), (u'P-R', u'paar'), (u'P-SH', u'paasch'), (u'P-K', u'pac')]\n"
     ]
    }
   ],
   "source": [
    "# Use CFD to find minimally contrasting sets of words\n",
    "p3 = [(pron[0] + '-' + pron[2], word) for (word, pron) in entries\n",
    "      if pron[0] == 'P' and len(pron) == 3]\n",
    "print(p3[:5])"
   ]
  },
  {
   "cell_type": "code",
   "execution_count": 17,
   "metadata": {
    "collapsed": false
   },
   "outputs": [
    {
     "name": "stdout",
     "output_type": "stream",
     "text": [
      "P-T: pot puett pit pete putt pat purt pet peart pott pett pait pert pote pa...\n",
      "P-P: pap paap pipp paup pape pup pep poop pop pipe paape popp pip peep pope...\n",
      "P-R: paar poor par poore pear pare pour peer pore parr por pair porr pier...\n",
      "P-S: pearse piece posts pasts peace perce pos pers pace puss pesce pass pur...\n",
      "P-Z: pays p.s pao's pais paws p.'s pas pez paz pei's pose poise peas paiz p...\n",
      "P-L: pil poehl pille pehl pol pall pohl pahl paul perl pale paille perle po...\n",
      "P-N: paine payne pon pain pin pawn pinn pun pine paign pen pyne pane penn p...\n",
      "P-K: pik peek pic pique paque polk perc poke perk pac pock poch purk pak pa...\n",
      "P-UW1: plew pshew plue peugh pew pru pugh peru prugh prue prew...\n",
      "P-CH: perch puche poche peach petsche poach pietsch pautsch piche petsch poo...\n"
     ]
    }
   ],
   "source": [
    "cfd = nltk.ConditionalFreqDist(p3)\n",
    "for template in cfd.conditions():\n",
    "    if len(cfd[template]) > 10:\n",
    "        words = cfd[template].keys()\n",
    "        wordlist = ' '.join(words)\n",
    "        print(template + ': ' + wordlist[:70] + '...')"
   ]
  },
  {
   "cell_type": "code",
   "execution_count": 22,
   "metadata": {
    "collapsed": false
   },
   "outputs": [
    {
     "data": {
      "text/plain": [
       "[(u'fawn', [[u'F', u'AO1', u'N']]),\n",
       " (u'sermersheim', [[u'S', u'ER1', u'M', u'ER0', u'S', u'HH', u'AY0', u'M']]),\n",
       " (u'sonji', [[u'S', u'AO1', u'N', u'JH', u'IY0']])]"
      ]
     },
     "execution_count": 22,
     "metadata": {},
     "output_type": "execute_result"
    }
   ],
   "source": [
    "prondict = nltk.corpus.cmudict.dict()\n",
    "prondict.items()[:3]"
   ]
  },
  {
   "cell_type": "code",
   "execution_count": 26,
   "metadata": {
    "collapsed": false
   },
   "outputs": [
    {
     "name": "stdout",
     "output_type": "stream",
     "text": [
      "[u'N', u'AE1', u'CH', u'ER0', u'AH0', u'L', u'L', u'AE1', u'NG', u'G', u'W', u'AH0', u'JH', u'P', u'R', u'AA1', u'S', u'EH0', u'S', u'IH0', u'NG']\n"
     ]
    }
   ],
   "source": [
    "text = ['natural', 'language', 'processing']\n",
    "print([ph for w in text for ph in prondict[w][0]])"
   ]
  },
  {
   "cell_type": "code",
   "execution_count": 29,
   "metadata": {
    "collapsed": false
   },
   "outputs": [
    {
     "name": "stdout",
     "output_type": "stream",
     "text": [
      "[u'be', u'bg', u'bs', u'ca', u'cs', u'cu', u'de', u'en', u'es', u'fr', u'hr', u'it', u'la', u'mk', u'nl', u'pl', u'pt', u'ro', u'ru', u'sk', u'sl', u'sr', u'sw', u'uk']\n"
     ]
    }
   ],
   "source": [
    "# Comparative wordlist\n",
    "from nltk.corpus import swadesh\n",
    "print(swadesh.fileids())"
   ]
  },
  {
   "cell_type": "code",
   "execution_count": 30,
   "metadata": {
    "collapsed": false
   },
   "outputs": [
    {
     "name": "stdout",
     "output_type": "stream",
     "text": [
      "[u'I', u'you (singular), thou', u'he', u'we', u'you (plural)', u'they', u'this', u'that', u'here', u'there', u'who', u'what', u'where', u'when', u'how', u'not', u'all', u'many', u'some', u'few', u'other', u'one', u'two', u'three', u'four', u'five', u'big', u'long', u'wide', u'thick']\n"
     ]
    }
   ],
   "source": [
    "print(swadesh.words('en')[:30])"
   ]
  },
  {
   "cell_type": "code",
   "execution_count": 31,
   "metadata": {
    "collapsed": false
   },
   "outputs": [
    {
     "name": "stdout",
     "output_type": "stream",
     "text": [
      "[(u'je', u'I'), (u'tu, vous', u'you (singular), thou'), (u'il', u'he'), (u'nous', u'we'), (u'vous', u'you (plural)'), (u'ils, elles', u'they'), (u'ceci', u'this'), (u'cela', u'that'), (u'ici', u'here'), (u'l\\xe0', u'there'), (u'qui', u'who'), (u'quoi', u'what'), (u'o\\xf9', u'where'), (u'quand', u'when'), (u'comment', u'how'), (u'ne...pas', u'not'), (u'tout', u'all'), (u'plusieurs', u'many'), (u'quelques', u'some'), (u'peu', u'few')]\n"
     ]
    }
   ],
   "source": [
    "fr2en = swadesh.entries(['fr', 'en'])\n",
    "print(fr2en[:20])"
   ]
  },
  {
   "cell_type": "code",
   "execution_count": 32,
   "metadata": {
    "collapsed": false
   },
   "outputs": [
    {
     "data": {
      "text/plain": [
       "u'dog'"
      ]
     },
     "execution_count": 32,
     "metadata": {},
     "output_type": "execute_result"
    }
   ],
   "source": [
    "translate = dict(fr2en)\n",
    "translate['chien']"
   ]
  },
  {
   "cell_type": "code",
   "execution_count": 37,
   "metadata": {
    "collapsed": false
   },
   "outputs": [
    {
     "data": {
      "text/plain": [
       "[(u'kaa',\n",
       "  [(u'ps', u'V'),\n",
       "   (u'pt', u'A'),\n",
       "   (u'ge', u'gag'),\n",
       "   (u'tkp', u'nek i pas'),\n",
       "   (u'dcsv', u'true'),\n",
       "   (u'vx', u'1'),\n",
       "   (u'sc', u'???'),\n",
       "   (u'dt', u'29/Oct/2005'),\n",
       "   (u'ex', u'Apoka ira kaaroi aioa-ia reoreopaoro.'),\n",
       "   (u'xp', u'Kaikai i pas long nek bilong Apoka bikos em i kaikai na toktok.'),\n",
       "   (u'xe', u'Apoka is gagging from food while talking.')]),\n",
       " (u'kaa',\n",
       "  [(u'ps', u'V'),\n",
       "   (u'pt', u'B'),\n",
       "   (u'ge', u'strangle'),\n",
       "   (u'tkp', u'pasim nek'),\n",
       "   (u'arg', u'O'),\n",
       "   (u'vx', u'2'),\n",
       "   (u'dt', u'07/Oct/2006'),\n",
       "   (u'ex', u'Rera rauroro rera kaarevoi.'),\n",
       "   (u'xp', u'Em i holim pas em na nekim em.'),\n",
       "   (u'xe', u'He is holding him and strangling him.'),\n",
       "   (u'ex',\n",
       "    u'Iroiro-ia oirato okoearo kaaivoi uvare rirovira kaureoparoveira.'),\n",
       "   (u'xp',\n",
       "    u'Ol i pasim nek bilong man long rop bikos em i save bikhet tumas.'),\n",
       "   (u'xe',\n",
       "    u\"They strangled the man's neck with rope because he was very stubborn and arrogant.\"),\n",
       "   (u'ex',\n",
       "    u'Oirato okoearo kaaivoi iroiro-ia. Uva viapau uvuiparoi ra vovouparo uva kopiiroi.'),\n",
       "   (u'xp',\n",
       "    u'Ol i pasim nek bilong man long rop. Olsem na em i no pulim win olsem na em i dai.'),\n",
       "   (u'xe',\n",
       "    u\"They strangled the man's neck with a rope. And he couldn't breathe and he died.\")])]"
      ]
     },
     "execution_count": 37,
     "metadata": {},
     "output_type": "execute_result"
    }
   ],
   "source": [
    "# Toolbox\n",
    "from nltk.corpus import toolbox\n",
    "(toolbox.entries('rotokas.dic')[:2])"
   ]
  },
  {
   "cell_type": "markdown",
   "metadata": {},
   "source": [
    "### WordNet"
   ]
  },
  {
   "cell_type": "code",
   "execution_count": 39,
   "metadata": {
    "collapsed": false
   },
   "outputs": [
    {
     "data": {
      "text/plain": [
       "[Synset('car.n.01')]"
      ]
     },
     "execution_count": 39,
     "metadata": {},
     "output_type": "execute_result"
    }
   ],
   "source": [
    "# Senses and synonyms\n",
    "from nltk.corpus import wordnet as wn\n",
    "wn.synsets('motorcar')  # synonym set: a collection of synonymous words (or 'lemmas')"
   ]
  },
  {
   "cell_type": "code",
   "execution_count": 44,
   "metadata": {
    "collapsed": false
   },
   "outputs": [
    {
     "data": {
      "text/plain": [
       "[u'car', u'auto', u'automobile', u'machine', u'motorcar']"
      ]
     },
     "execution_count": 44,
     "metadata": {},
     "output_type": "execute_result"
    }
   ],
   "source": [
    "wn.synset('car.n.01').lemma_names()"
   ]
  },
  {
   "cell_type": "code",
   "execution_count": 46,
   "metadata": {
    "collapsed": false
   },
   "outputs": [
    {
     "data": {
      "text/plain": [
       "(u'a motor vehicle with four wheels; usually propelled by an internal combustion engine',\n",
       " [u'he needs a car to get to work'])"
      ]
     },
     "execution_count": 46,
     "metadata": {},
     "output_type": "execute_result"
    }
   ],
   "source": [
    "wn.synset('car.n.01').definition(), wn.synset('car.n.01').examples()"
   ]
  },
  {
   "cell_type": "code",
   "execution_count": 47,
   "metadata": {
    "collapsed": false
   },
   "outputs": [
    {
     "data": {
      "text/plain": [
       "[Synset('car.n.01'),\n",
       " Synset('car.n.02'),\n",
       " Synset('car.n.03'),\n",
       " Synset('car.n.04'),\n",
       " Synset('cable_car.n.01')]"
      ]
     },
     "execution_count": 47,
     "metadata": {},
     "output_type": "execute_result"
    }
   ],
   "source": [
    "# Car word is ambiguous\n",
    "wn.synsets('car')"
   ]
  },
  {
   "cell_type": "code",
   "execution_count": 48,
   "metadata": {
    "collapsed": false
   },
   "outputs": [
    {
     "name": "stdout",
     "output_type": "stream",
     "text": [
      "[u'car', u'auto', u'automobile', u'machine', u'motorcar']\n",
      "[u'car', u'railcar', u'railway_car', u'railroad_car']\n",
      "[u'car', u'gondola']\n",
      "[u'car', u'elevator_car']\n",
      "[u'cable_car', u'car']\n"
     ]
    }
   ],
   "source": [
    "for synset in wn.synsets('car'):\n",
    "    print(synset.lemma_names())"
   ]
  },
  {
   "cell_type": "code",
   "execution_count": 55,
   "metadata": {
    "collapsed": false
   },
   "outputs": [
    {
     "data": {
      "text/plain": [
       "[Lemma('car.n.01.car'),\n",
       " Lemma('car.n.02.car'),\n",
       " Lemma('car.n.03.car'),\n",
       " Lemma('car.n.04.car'),\n",
       " Lemma('cable_car.n.01.car')]"
      ]
     },
     "execution_count": 55,
     "metadata": {},
     "output_type": "execute_result"
    }
   ],
   "source": [
    "wn.lemmas('car')"
   ]
  },
  {
   "cell_type": "code",
   "execution_count": 57,
   "metadata": {
    "collapsed": false
   },
   "outputs": [
    {
     "data": {
      "text/plain": [
       "[Synset('dish.n.01'),\n",
       " Synset('dish.n.02'),\n",
       " Synset('dish.n.03'),\n",
       " Synset('smasher.n.02'),\n",
       " Synset('dish.n.05'),\n",
       " Synset('cup_of_tea.n.01'),\n",
       " Synset('serve.v.06'),\n",
       " Synset('dish.v.02')]"
      ]
     },
     "execution_count": 57,
     "metadata": {},
     "output_type": "execute_result"
    }
   ],
   "source": [
    "wn.synsets('dish')"
   ]
  },
  {
   "cell_type": "code",
   "execution_count": 58,
   "metadata": {
    "collapsed": false
   },
   "outputs": [
    {
     "name": "stdout",
     "output_type": "stream",
     "text": [
      "[u'dish']\n",
      "[u'dish']\n",
      "[u'dish', u'dishful']\n",
      "[u'smasher', u'stunner', u'knockout', u'beauty', u'ravisher', u'sweetheart', u'peach', u'lulu', u'looker', u'mantrap', u'dish']\n",
      "[u'dish', u'dish_aerial', u'dish_antenna', u'saucer']\n",
      "[u'cup_of_tea', u'bag', u'dish']\n",
      "[u'serve', u'serve_up', u'dish_out', u'dish_up', u'dish']\n",
      "[u'dish']\n"
     ]
    }
   ],
   "source": [
    "for synset in wn.synsets('dish'):\n",
    "    print(synset.lemma_names())"
   ]
  },
  {
   "cell_type": "code",
   "execution_count": 59,
   "metadata": {
    "collapsed": false
   },
   "outputs": [
    {
     "data": {
      "text/plain": [
       "[Lemma('dish.n.01.dish'),\n",
       " Lemma('dish.n.02.dish'),\n",
       " Lemma('dish.n.03.dish'),\n",
       " Lemma('smasher.n.02.dish'),\n",
       " Lemma('dish.n.05.dish'),\n",
       " Lemma('cup_of_tea.n.01.dish'),\n",
       " Lemma('serve.v.06.dish'),\n",
       " Lemma('dish.v.02.dish')]"
      ]
     },
     "execution_count": 59,
     "metadata": {},
     "output_type": "execute_result"
    }
   ],
   "source": [
    "wn.lemmas('dish')"
   ]
  },
  {
   "cell_type": "code",
   "execution_count": 60,
   "metadata": {
    "collapsed": false
   },
   "outputs": [
    {
     "data": {
      "text/plain": [
       "[Synset('ambulance.n.01'), Synset('beach_wagon.n.01'), Synset('bus.n.04')]"
      ]
     },
     "execution_count": 60,
     "metadata": {},
     "output_type": "execute_result"
    }
   ],
   "source": [
    "# Hyponyms\n",
    "motorcar = wn.synset('car.n.01')\n",
    "types_of_motorcar = motorcar.hyponyms()\n",
    "types_of_motorcar[:3]"
   ]
  },
  {
   "cell_type": "code",
   "execution_count": 69,
   "metadata": {
    "collapsed": false
   },
   "outputs": [
    {
     "data": {
      "text/plain": [
       "[u'Model_T', u'S.U.V.', u'SUV', u'Stanley_Steamer', u'ambulance']"
      ]
     },
     "execution_count": 69,
     "metadata": {},
     "output_type": "execute_result"
    }
   ],
   "source": [
    "sorted([lemma.name() for synset in types_of_motorcar for lemma in synset.lemmas()])[:5]"
   ]
  },
  {
   "cell_type": "code",
   "execution_count": null,
   "metadata": {
    "collapsed": true
   },
   "outputs": [],
   "source": [
    "# Visit up the hierarchy hypernyms\n",
    "# .lowest_common_hypernyms(synset)\n",
    "# synset.min_depth()\n",
    "# synset.path_similarity(other_synset)"
   ]
  },
  {
   "cell_type": "code",
   "execution_count": 72,
   "metadata": {
    "collapsed": false
   },
   "outputs": [],
   "source": [
    "from nltk.book import *"
   ]
  },
  {
   "cell_type": "code",
   "execution_count": 75,
   "metadata": {
    "collapsed": false
   },
   "outputs": [
    {
     "data": {
      "text/plain": [
       "[u'[', u'Moby', u'Dick', u'by', u'Herman']"
      ]
     },
     "execution_count": 75,
     "metadata": {},
     "output_type": "execute_result"
    }
   ],
   "source": [
    "text1[:5]"
   ]
  },
  {
   "cell_type": "code",
   "execution_count": 79,
   "metadata": {
    "collapsed": false,
    "scrolled": true
   },
   "outputs": [
    {
     "data": {
      "image/png": "[encoded data removed]",
      "text/plain": [
       "<matplotlib.figure.Figure at 0x7f3676010210>"
      ]
     },
     "metadata": {},
     "output_type": "display_data"
    }
   ],
   "source": [
    "pylab.rcParams['figure.figsize'] = 14, 6\n",
    "FreqDist(text1).plot(50)"
   ]
  },
  {
   "cell_type": "code",
   "execution_count": 90,
   "metadata": {
    "collapsed": false
   },
   "outputs": [],
   "source": [
    "import random\n",
    "long_string = ''\n",
    "for _ in range(500000):\n",
    "    long_string += random.choice('abcdefg ')"
   ]
  },
  {
   "cell_type": "code",
   "execution_count": 87,
   "metadata": {
    "collapsed": false
   },
   "outputs": [
    {
     "data": {
      "text/plain": [
       "'dcacdcbbggdeag cag ffdfgg eeb  adebcaa cfdbg fbb b'"
      ]
     },
     "execution_count": 87,
     "metadata": {},
     "output_type": "execute_result"
    }
   ],
   "source": [
    "long_string[:50]"
   ]
  },
  {
   "cell_type": "code",
   "execution_count": 91,
   "metadata": {
    "collapsed": false
   },
   "outputs": [
    {
     "data": {
      "image/png": "[encoded data removed]",
      "text/plain": [
       "<matplotlib.figure.Figure at 0x7f3676960150>"
      ]
     },
     "metadata": {},
     "output_type": "display_data"
    }
   ],
   "source": [
    "FreqDist(nltk.word_tokenize(long_string)).plot(50)"
   ]
  }
 ],
 "metadata": {
  "kernelspec": {
   "display_name": "Python 2",
   "language": "python",
   "name": "python2"
  },
  "language_info": {
   "codemirror_mode": {
    "name": "ipython",
    "version": 2
   },
   "file_extension": ".py",
   "mimetype": "text/x-python",
   "name": "python",
   "nbconvert_exporter": "python",
   "pygments_lexer": "ipython2",
   "version": "2.7.9"
  }
 },
 "nbformat": 4,
 "nbformat_minor": 0
}
