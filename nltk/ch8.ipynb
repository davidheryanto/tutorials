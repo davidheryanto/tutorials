{
 "cells": [
  {
   "cell_type": "code",
   "execution_count": 1,
   "metadata": {
    "collapsed": true
   },
   "outputs": [],
   "source": [
    "import nltk"
   ]
  },
  {
   "cell_type": "code",
   "execution_count": 18,
   "metadata": {
    "collapsed": false
   },
   "outputs": [
    {
     "name": "stdout",
     "output_type": "stream",
     "text": [
      "Parsing u'Mary saw Bob'\n",
      "    [ * S ]\n",
      "  E [ * NP VP ]\n",
      "  E [ * 'John' VP ]\n",
      "  E [ * 'Mary' VP ]\n",
      "  M [ 'Mary' * VP ]\n",
      "  E [ 'Mary' * V NP ]\n",
      "  E [ 'Mary' * 'saw' NP ]\n",
      "  M [ 'Mary' 'saw' * NP ]\n",
      "  E [ 'Mary' 'saw' * 'John' ]\n",
      "  E [ 'Mary' 'saw' * 'Mary' ]\n",
      "  E [ 'Mary' 'saw' * 'Bob' ]\n",
      "  M [ 'Mary' 'saw' 'Bob' ]\n",
      "  + [ 'Mary' 'saw' 'Bob' ]\n",
      "  E [ 'Mary' 'saw' * Det N ]\n",
      "  E [ 'Mary' 'saw' * 'a' N ]\n",
      "  E [ 'Mary' 'saw' * 'an' N ]\n",
      "  E [ 'Mary' 'saw' * 'the' N ]\n",
      "  E [ 'Mary' 'saw' * 'my' N ]\n",
      "  E [ 'Mary' 'saw' * Det N PP ]\n",
      "  E [ 'Mary' 'saw' * 'a' N PP ]\n",
      "  E [ 'Mary' 'saw' * 'an' N PP ]\n",
      "  E [ 'Mary' 'saw' * 'the' N PP ]\n",
      "  E [ 'Mary' 'saw' * 'my' N PP ]\n",
      "  E [ 'Mary' * 'ate' NP ]\n",
      "  E [ 'Mary' * 'walked' NP ]\n",
      "  E [ 'Mary' * V NP PP ]\n",
      "  E [ 'Mary' * 'saw' NP PP ]\n",
      "  M [ 'Mary' 'saw' * NP PP ]\n",
      "  E [ 'Mary' 'saw' * 'John' PP ]\n",
      "  E [ 'Mary' 'saw' * 'Mary' PP ]\n",
      "  E [ 'Mary' 'saw' * 'Bob' PP ]\n",
      "  M [ 'Mary' 'saw' 'Bob' * PP ]\n",
      "  E [ 'Mary' 'saw' 'Bob' * P NP ]\n",
      "  E [ 'Mary' 'saw' 'Bob' * 'in' NP ]\n",
      "  E [ 'Mary' 'saw' 'Bob' * 'on' NP ]\n",
      "  E [ 'Mary' 'saw' 'Bob' * 'by' NP ]\n",
      "  E [ 'Mary' 'saw' 'Bob' * 'with' NP ]\n",
      "  E [ 'Mary' 'saw' * Det N PP ]\n",
      "  E [ 'Mary' 'saw' * 'a' N PP ]\n",
      "  E [ 'Mary' 'saw' * 'an' N PP ]\n",
      "  E [ 'Mary' 'saw' * 'the' N PP ]\n",
      "  E [ 'Mary' 'saw' * 'my' N PP ]\n",
      "  E [ 'Mary' 'saw' * Det N PP PP ]\n",
      "  E [ 'Mary' 'saw' * 'a' N PP PP ]\n",
      "  E [ 'Mary' 'saw' * 'an' N PP PP ]\n",
      "  E [ 'Mary' 'saw' * 'the' N PP PP ]\n",
      "  E [ 'Mary' 'saw' * 'my' N PP PP ]\n",
      "  E [ 'Mary' * 'ate' NP PP ]\n",
      "  E [ 'Mary' * 'walked' NP PP ]\n",
      "  E [ * 'Bob' VP ]\n",
      "  E [ * Det N VP ]\n",
      "  E [ * 'a' N VP ]\n",
      "  E [ * 'an' N VP ]\n",
      "  E [ * 'the' N VP ]\n",
      "  E [ * 'my' N VP ]\n",
      "  E [ * Det N PP VP ]\n",
      "  E [ * 'a' N PP VP ]\n",
      "  E [ * 'an' N PP VP ]\n",
      "  E [ * 'the' N PP VP ]\n",
      "  E [ * 'my' N PP VP ]\n",
      "(S (NP Mary) (VP (V saw) (NP Bob)))\n"
     ]
    }
   ],
   "source": [
    "grammar1 = nltk.CFG.fromstring(\"\"\"\n",
    "S -> NP VP\n",
    "VP -> V NP | V NP PP\n",
    "PP -> P NP\n",
    "V -> \"saw\" | \"ate\" | \"walked\"\n",
    "NP -> \"John\" | \"Mary\" | \"Bob\" | Det N | Det N PP\n",
    "Det -> \"a\" | \"an\" | \"the\" | \"my\"\n",
    "N -> \"man\" | \"dog\" | \"cat\" | \"telescope\" | \"park\"\n",
    "P -> \"in\" | \"on\" | \"by\" | \"with\"\n",
    "\"\"\")\n",
    "sent = \"Mary saw Bob\".split()\n",
    "rd_parser = nltk.RecursiveDescentParser(grammar1, trace=2)\n",
    "for tree in rd_parser.parse_all(sent):\n",
    "    print(tree)"
   ]
  },
  {
   "cell_type": "code",
   "execution_count": 13,
   "metadata": {
    "collapsed": false
   },
   "outputs": [
    {
     "name": "stdout",
     "output_type": "stream",
     "text": [
      "S -> NP VP\n",
      "VP -> V NP\n",
      "VP -> V NP PP\n",
      "PP -> P NP\n",
      "V -> 'saw'\n",
      "V -> 'ate'\n",
      "V -> 'walked'\n",
      "NP -> 'John'\n",
      "NP -> 'Mary'\n",
      "NP -> 'Bob'\n",
      "NP -> Det N\n",
      "NP -> Det N PP\n",
      "Det -> 'a'\n",
      "Det -> 'an'\n",
      "Det -> 'the'\n",
      "Det -> 'my'\n",
      "N -> 'man'\n",
      "N -> 'dog'\n",
      "N -> 'cat'\n",
      "N -> 'telescope'\n",
      "N -> 'park'\n",
      "P -> 'in'\n",
      "P -> 'on'\n",
      "P -> 'by'\n",
      "P -> 'with'\n"
     ]
    }
   ],
   "source": [
    "for p in grammar1.productions():\n",
    "    print(p)"
   ]
  },
  {
   "cell_type": "code",
   "execution_count": 24,
   "metadata": {
    "collapsed": false
   },
   "outputs": [
    {
     "name": "stdout",
     "output_type": "stream",
     "text": [
      "grammar= (\n",
      "('    ', 'S -> NP VP,')\n",
      "('    ', 'VP -> VP PP,')\n",
      "('    ', 'VP -> V NP,')\n",
      "('    ', 'VP -> V,')\n",
      "('    ', 'NP -> Det N,')\n",
      "('    ', 'NP -> NP PP,')\n",
      "('    ', 'PP -> P NP,')\n",
      "('    ', \"NP -> 'John',\")\n",
      "('    ', \"NP -> 'I',\")\n",
      "('    ', \"Det -> 'the',\")\n",
      "('    ', \"Det -> 'my',\")\n",
      "('    ', \"Det -> 'a',\")\n",
      "('    ', \"N -> 'dog',\")\n",
      "('    ', \"N -> 'cookie',\")\n",
      "('    ', \"N -> 'table',\")\n",
      "('    ', \"N -> 'cake',\")\n",
      "('    ', \"N -> 'fork',\")\n",
      "('    ', \"V -> 'ate',\")\n",
      "('    ', \"V -> 'saw',\")\n",
      "('    ', \"P -> 'on',\")\n",
      "('    ', \"P -> 'under',\")\n",
      "('    ', \"P -> 'with',\")\n",
      ")\n",
      "tokens = ['John', 'ate', 'the', 'cake', 'on', 'the', 'table']\n",
      "Calling \"ChartParserApp(grammar, tokens)\"...\n",
      "[(u'under',)]\n",
      "[(u'with',)]\n",
      "[(u'on',)]\n",
      "[(u'under',), (u'with',)]\n",
      "[(u'ate',)]\n",
      "[(u'saw',)]\n",
      "[(u'cake',)]\n",
      "[(u'fork',)]\n",
      "[(u'table',)]\n",
      "[(u'cake',), (u'fork',)]\n",
      "[(u'cookie',)]\n",
      "[(u'table',), (u'cake',), (u'fork',)]\n",
      "[(u'dog',)]\n",
      "[(u'cookie',), (u'table',), (u'cake',), (u'fork',)]\n",
      "[(u'my',)]\n",
      "[(u'a',)]\n",
      "[(u'the',)]\n",
      "[(u'my',), (u'a',)]\n",
      "[(u'John',)]\n",
      "[(u'I',)]\n",
      "[(Det, N)]\n",
      "[(NP, PP)]\n",
      "[(V, NP)]\n",
      "[(V,)]\n",
      "[(VP, PP)]\n",
      "[(V, NP), (V,)]\n",
      "(S, [(NP, VP)])\n",
      "(VP, [(VP, PP), (V, NP), (V,)])\n",
      "(NP, [(Det, N), (NP, PP)])\n",
      "(PP, [(P, NP)])\n",
      "(NP, [(u'John',), (u'I',)])\n",
      "(Det, [(u'the',), (u'my',), (u'a',)])\n",
      "(N, [(u'dog',), (u'cookie',), (u'table',), (u'cake',), (u'fork',)])\n",
      "(V, [(u'ate',), (u'saw',)])\n",
      "(P, [(u'on',), (u'under',), (u'with',)])\n"
     ]
    },
    {
     "name": "stderr",
     "output_type": "stream",
     "text": [
      "/home/davidheryanto/anaconda/lib/python2.7/site-packages/nltk/draw/cfg.py:357: UnicodeWarning: Unicode equal comparison failed to convert both arguments to Unicode - interpreting them as being unequal\n",
      "  elif match.group() in ('->', self.ARROW): tag = 'arrow'\n"
     ]
    }
   ],
   "source": [
    "nltk.app.chartparser()"
   ]
  }
 ],
 "metadata": {
  "kernelspec": {
   "display_name": "Python 2",
   "language": "python",
   "name": "python2"
  },
  "language_info": {
   "codemirror_mode": {
    "name": "ipython",
    "version": 2
   },
   "file_extension": ".py",
   "mimetype": "text/x-python",
   "name": "python",
   "nbconvert_exporter": "python",
   "pygments_lexer": "ipython2",
   "version": "2.7.9"
  }
 },
 "nbformat": 4,
 "nbformat_minor": 0
}
