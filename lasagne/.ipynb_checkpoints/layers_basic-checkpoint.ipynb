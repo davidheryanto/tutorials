{
 "cells": [
  {
   "cell_type": "markdown",
   "metadata": {},
   "source": [
    "Lasagne docs:  \n",
    "http://lasagne.readthedocs.org/en/latest/"
   ]
  },
  {
   "cell_type": "code",
   "execution_count": 19,
   "metadata": {
    "collapsed": true
   },
   "outputs": [],
   "source": [
    "from __future__ import print_function\n",
    "import lasagne\n",
    "import theano\n",
    "import theano.tensor as T"
   ]
  },
  {
   "cell_type": "code",
   "execution_count": 4,
   "metadata": {
    "collapsed": false
   },
   "outputs": [
    {
     "name": "stderr",
     "output_type": "stream",
     "text": [
      "/home/fujie/Git/Lasagne/lasagne/init.py:86: UserWarning: The uniform initializer no longer uses Glorot et al.'s approach to determine the bounds, but defaults to the range (-0.01, 0.01) instead. Please use the new GlorotUniform initializer to get the old behavior. GlorotUniform is now the default for all layers.\n",
      "  warnings.warn(\"The uniform initializer no longer uses Glorot et al.'s \"\n"
     ]
    }
   ],
   "source": [
    "l_in = lasagne.layers.InputLayer((100, 20))  # 100 data points and each point is a vector of length 50\n",
    "l = lasagne.layers.DenseLayer(l_in, num_units=100)"
   ]
  },
  {
   "cell_type": "code",
   "execution_count": 7,
   "metadata": {
    "collapsed": true
   },
   "outputs": [],
   "source": [
    "# MLP with a single hidden layer\n",
    "l_in = lasagne.layers.InputLayer((100, 50))\n",
    "l_hidden = lasagne.layers.DenseLayer(l_in, num_units=200)  # If nonlinearity is not specified, default rectified linear\n",
    "l_out = lasagne.layers.DenseLayer(l_hidden, num_units=10, nonlinearity=T.nnet.softmax)"
   ]
  },
  {
   "cell_type": "code",
   "execution_count": 9,
   "metadata": {
    "collapsed": true
   },
   "outputs": [],
   "source": [
    "# Custom initialization strategy\n",
    "l = lasagne.layers.DenseLayer(l_in, num_units=100, W=lasagne.init.Normal(0.01))"
   ]
  },
  {
   "cell_type": "code",
   "execution_count": 14,
   "metadata": {
    "collapsed": false
   },
   "outputs": [],
   "source": [
    "# Parameter sharing\n",
    "l1 = lasagne.layers.DenseLayer(l_in, num_units=100)\n",
    "l2 = lasagne.layers.DenseLayer(l_in, num_units=100, W=l1.W)"
   ]
  },
  {
   "cell_type": "code",
   "execution_count": 18,
   "metadata": {
    "collapsed": false
   },
   "outputs": [
    {
     "data": {
      "text/plain": [
       "Softmax.0"
      ]
     },
     "execution_count": 18,
     "metadata": {},
     "output_type": "execute_result"
    }
   ],
   "source": [
    "# Propagating data through layers\n",
    "# lasagne.layers.get_output()\n",
    "y = lasagne.layers.get_output(l_out)\n",
    "y  # A theano expression"
   ]
  },
  {
   "cell_type": "code",
   "execution_count": 20,
   "metadata": {
    "collapsed": false
   },
   "outputs": [
    {
     "data": {
      "text/plain": [
       "input"
      ]
     },
     "execution_count": 20,
     "metadata": {},
     "output_type": "execute_result"
    }
   ],
   "source": [
    "l_in.input_var"
   ]
  },
  {
   "cell_type": "code",
   "execution_count": 26,
   "metadata": {
    "collapsed": false
   },
   "outputs": [],
   "source": [
    "f = theano.function([l_in.input_var], lasagne.layers.get_output(l_out))"
   ]
  },
  {
   "cell_type": "code",
   "execution_count": 22,
   "metadata": {
    "collapsed": true
   },
   "outputs": [],
   "source": [
    "x = T.matrix('x')\n",
    "y = lasagne.layers.get_output(l_out, x)  # Set x as input to get_output()\n",
    "f = theano.function([x], y)"
   ]
  },
  {
   "cell_type": "code",
   "execution_count": 27,
   "metadata": {
    "collapsed": false
   },
   "outputs": [],
   "source": [
    "y = lasagne.layers.get_output(l_out, deterministic=True)  # When deterministric=True, disables stochastic behaviour\n",
    "                                                          # such as dropout"
   ]
  },
  {
   "cell_type": "code",
   "execution_count": 30,
   "metadata": {
    "collapsed": false
   },
   "outputs": [],
   "source": [
    "# Two output layers\n",
    "l_out1 = lasagne.layers.DenseLayer(l_hidden, num_units=10, nonlinearity=T.nnet.softmax)\n",
    "l_out2 = lasagne.layers.DenseLayer(l_hidden, num_units=20, nonlinearity=T.nnet.softmax)\n",
    "y1, y2 = lasagne.layers.get_output([l_out1, l_out2])  # Or call get_output() twice BUT for non-deterministic output\n",
    "                                                      # DIFFERENT samples will be used"
   ]
  }
 ],
 "metadata": {
  "kernelspec": {
   "display_name": "Python 2",
   "language": "python",
   "name": "python2"
  },
  "language_info": {
   "codemirror_mode": {
    "name": "ipython",
    "version": 2
   },
   "file_extension": ".py",
   "mimetype": "text/x-python",
   "name": "python",
   "nbconvert_exporter": "python",
   "pygments_lexer": "ipython2",
   "version": "2.7.9"
  }
 },
 "nbformat": 4,
 "nbformat_minor": 0
}
