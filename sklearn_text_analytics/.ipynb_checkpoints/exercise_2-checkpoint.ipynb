{
 "cells": [
  {
   "cell_type": "code",
   "execution_count": 14,
   "metadata": {
    "collapsed": true
   },
   "outputs": [],
   "source": [
    "\"\"\"Build a sentiment analysis / polarity model\n",
    "\n",
    "Sentiment analysis can be casted as a binary text classification problem,\n",
    "that is fitting a linear classifier on features extracted from the text\n",
    "of the user messages so as to guess wether the opinion of the author is\n",
    "positive or negative.\n",
    "\n",
    "In this examples we will use a movie review dataset.\n",
    "\n",
    "\"\"\"\n",
    "# Author: Olivier Grisel <olivier.grisel@ensta.org>\n",
    "# License: Simplified BSD\n",
    "\n",
    "import sys\n",
    "from sklearn.feature_extraction.text import TfidfVectorizer\n",
    "from sklearn.svm import LinearSVC\n",
    "from sklearn.linear_model import SGDClassifier\n",
    "from sklearn.pipeline import Pipeline\n",
    "from sklearn.grid_search import GridSearchCV\n",
    "from sklearn.datasets import load_files\n",
    "from sklearn.cross_validation import train_test_split\n",
    "from sklearn import metrics"
   ]
  },
  {
   "cell_type": "code",
   "execution_count": 4,
   "metadata": {
    "collapsed": true
   },
   "outputs": [],
   "source": [
    "import os\n",
    "data_path = os.getenv('DATA_PATH')"
   ]
  },
  {
   "cell_type": "code",
   "execution_count": 6,
   "metadata": {
    "collapsed": false
   },
   "outputs": [
    {
     "name": "stdout",
     "output_type": "stream",
     "text": [
      "n_samples: 2000\n"
     ]
    }
   ],
   "source": [
    "# the training data folder must be passed as first argument\n",
    "movie_reviews_data_folder = os.path.join(data_path, 'sklearn_text_analytics', 'txt_sentoken')\n",
    "dataset = load_files(movie_reviews_data_folder, shuffle=False)\n",
    "print(\"n_samples: %d\" % len(dataset.data))\n",
    "\n",
    "# split the dataset in training and test set:\n",
    "docs_train, docs_test, y_train, y_test = train_test_split(\n",
    "    dataset.data, dataset.target, test_size=0.25, random_state=None)"
   ]
  },
  {
   "cell_type": "code",
   "execution_count": 19,
   "metadata": {
    "collapsed": true
   },
   "outputs": [],
   "source": [
    "pipeline = Pipeline([('vectorizer', TfidfVectorizer()), ('svc', SGDClassifier())])\n",
    "parameters = {'vectorizer__analyzer': ['word', 'char']\n",
    "              ,'vectorizer__ngram_range': [(1,1), (1,2), (2,2)]\n",
    "              ,'vectorizer__max_df': [0.80, 1.00]\n",
    "              ,'vectorizer__min_df': [0.00, 0.20]}"
   ]
  },
  {
   "cell_type": "code",
   "execution_count": 20,
   "metadata": {
    "collapsed": false
   },
   "outputs": [
    {
     "data": {
      "text/plain": [
       "GridSearchCV(cv=None, error_score='raise',\n",
       "       estimator=Pipeline(steps=[('vectorizer', TfidfVectorizer(analyzer=u'word', binary=False, decode_error=u'strict',\n",
       "        dtype=<type 'numpy.int64'>, encoding=u'utf-8', input=u'content',\n",
       "        lowercase=True, max_df=1.0, max_features=None, min_df=1,\n",
       "        ngram_range=(1, 1), norm=u'l2', preprocessor=None, smooth_id...   penalty='l2', power_t=0.5, random_state=None, shuffle=True,\n",
       "       verbose=0, warm_start=False))]),\n",
       "       fit_params={}, iid=True, loss_func=None, n_jobs=-1,\n",
       "       param_grid={'vectorizer__min_df': [0.0, 0.2], 'vectorizer__ngram_range': [(1, 1), (1, 2), (2, 2)], 'vectorizer__analyzer': ['word', 'char'], 'vectorizer__max_df': [0.8, 1.0]},\n",
       "       pre_dispatch='2*n_jobs', refit=True, score_func=None, scoring=None,\n",
       "       verbose=0)"
      ]
     },
     "execution_count": 20,
     "metadata": {},
     "output_type": "execute_result"
    }
   ],
   "source": [
    "# TASK: Build a vectorizer / classifier pipeline that filters out tokens\n",
    "# that are too rare or too frequent\n",
    "grid_search = GridSearchCV(pipeline, parameters, n_jobs=-1)\n",
    "grid_search.fit(docs_train, y_train)"
   ]
  },
  {
   "cell_type": "code",
   "execution_count": 21,
   "metadata": {
    "collapsed": false,
    "scrolled": true
   },
   "outputs": [
    {
     "data": {
      "text/plain": [
       "[mean: 0.83267, std: 0.00589, params: {'vectorizer__min_df': 0.0, 'vectorizer__ngram_range': (1, 1), 'vectorizer__analyzer': 'word', 'vectorizer__max_df': 0.8},\n",
       " mean: 0.85200, std: 0.00924, params: {'vectorizer__min_df': 0.0, 'vectorizer__ngram_range': (1, 2), 'vectorizer__analyzer': 'word', 'vectorizer__max_df': 0.8},\n",
       " mean: 0.81933, std: 0.00793, params: {'vectorizer__min_df': 0.0, 'vectorizer__ngram_range': (2, 2), 'vectorizer__analyzer': 'word', 'vectorizer__max_df': 0.8},\n",
       " mean: 0.70533, std: 0.03286, params: {'vectorizer__min_df': 0.2, 'vectorizer__ngram_range': (1, 1), 'vectorizer__analyzer': 'word', 'vectorizer__max_df': 0.8},\n",
       " mean: 0.73400, std: 0.02121, params: {'vectorizer__min_df': 0.2, 'vectorizer__ngram_range': (1, 2), 'vectorizer__analyzer': 'word', 'vectorizer__max_df': 0.8},\n",
       " mean: 0.59267, std: 0.02310, params: {'vectorizer__min_df': 0.2, 'vectorizer__ngram_range': (2, 2), 'vectorizer__analyzer': 'word', 'vectorizer__max_df': 0.8},\n",
       " mean: 0.83467, std: 0.00550, params: {'vectorizer__min_df': 0.0, 'vectorizer__ngram_range': (1, 1), 'vectorizer__analyzer': 'word', 'vectorizer__max_df': 1.0},\n",
       " mean: 0.79533, std: 0.00871, params: {'vectorizer__min_df': 0.0, 'vectorizer__ngram_range': (1, 2), 'vectorizer__analyzer': 'word', 'vectorizer__max_df': 1.0},\n",
       " mean: 0.81333, std: 0.01380, params: {'vectorizer__min_df': 0.0, 'vectorizer__ngram_range': (2, 2), 'vectorizer__analyzer': 'word', 'vectorizer__max_df': 1.0},\n",
       " mean: 0.70400, std: 0.01750, params: {'vectorizer__min_df': 0.2, 'vectorizer__ngram_range': (1, 1), 'vectorizer__analyzer': 'word', 'vectorizer__max_df': 1.0},\n",
       " mean: 0.72800, std: 0.01449, params: {'vectorizer__min_df': 0.2, 'vectorizer__ngram_range': (1, 2), 'vectorizer__analyzer': 'word', 'vectorizer__max_df': 1.0},\n",
       " mean: 0.59533, std: 0.00416, params: {'vectorizer__min_df': 0.2, 'vectorizer__ngram_range': (2, 2), 'vectorizer__analyzer': 'word', 'vectorizer__max_df': 1.0},\n",
       " mean: 0.53400, std: 0.01818, params: {'vectorizer__min_df': 0.0, 'vectorizer__ngram_range': (1, 1), 'vectorizer__analyzer': 'char', 'vectorizer__max_df': 0.8},\n",
       " mean: 0.65467, std: 0.00668, params: {'vectorizer__min_df': 0.0, 'vectorizer__ngram_range': (1, 2), 'vectorizer__analyzer': 'char', 'vectorizer__max_df': 0.8},\n",
       " mean: 0.67533, std: 0.01211, params: {'vectorizer__min_df': 0.0, 'vectorizer__ngram_range': (2, 2), 'vectorizer__analyzer': 'char', 'vectorizer__max_df': 0.8},\n",
       " mean: 0.53000, std: 0.02938, params: {'vectorizer__min_df': 0.2, 'vectorizer__ngram_range': (1, 1), 'vectorizer__analyzer': 'char', 'vectorizer__max_df': 0.8},\n",
       " mean: 0.64000, std: 0.02573, params: {'vectorizer__min_df': 0.2, 'vectorizer__ngram_range': (1, 2), 'vectorizer__analyzer': 'char', 'vectorizer__max_df': 0.8},\n",
       " mean: 0.63800, std: 0.02761, params: {'vectorizer__min_df': 0.2, 'vectorizer__ngram_range': (2, 2), 'vectorizer__analyzer': 'char', 'vectorizer__max_df': 0.8},\n",
       " mean: 0.50600, std: 0.00509, params: {'vectorizer__min_df': 0.0, 'vectorizer__ngram_range': (1, 1), 'vectorizer__analyzer': 'char', 'vectorizer__max_df': 1.0},\n",
       " mean: 0.54533, std: 0.05625, params: {'vectorizer__min_df': 0.0, 'vectorizer__ngram_range': (1, 2), 'vectorizer__analyzer': 'char', 'vectorizer__max_df': 1.0},\n",
       " mean: 0.67933, std: 0.03264, params: {'vectorizer__min_df': 0.0, 'vectorizer__ngram_range': (2, 2), 'vectorizer__analyzer': 'char', 'vectorizer__max_df': 1.0},\n",
       " mean: 0.50533, std: 0.00404, params: {'vectorizer__min_df': 0.2, 'vectorizer__ngram_range': (1, 1), 'vectorizer__analyzer': 'char', 'vectorizer__max_df': 1.0},\n",
       " mean: 0.56067, std: 0.04610, params: {'vectorizer__min_df': 0.2, 'vectorizer__ngram_range': (1, 2), 'vectorizer__analyzer': 'char', 'vectorizer__max_df': 1.0},\n",
       " mean: 0.62733, std: 0.01888, params: {'vectorizer__min_df': 0.2, 'vectorizer__ngram_range': (2, 2), 'vectorizer__analyzer': 'char', 'vectorizer__max_df': 1.0}]"
      ]
     },
     "execution_count": 21,
     "metadata": {},
     "output_type": "execute_result"
    }
   ],
   "source": [
    "# TASK: print the cross-validated scores for the each parameters set\n",
    "# explored by the grid search\n",
    "grid_search.grid_scores_"
   ]
  },
  {
   "cell_type": "code",
   "execution_count": 23,
   "metadata": {
    "collapsed": false
   },
   "outputs": [
    {
     "name": "stdout",
     "output_type": "stream",
     "text": [
      "{'vectorizer__min_df': 0.0, 'vectorizer__ngram_range': (1, 2), 'vectorizer__analyzer': 'word', 'vectorizer__max_df': 0.8}\n",
      "0.852\n"
     ]
    }
   ],
   "source": [
    "print(grid_search.best_params_)\n",
    "print(grid_search.best_score_)"
   ]
  },
  {
   "cell_type": "code",
   "execution_count": 24,
   "metadata": {
    "collapsed": true
   },
   "outputs": [],
   "source": [
    "# TASK: Predict the outcome on the testing set and store it in a variable\n",
    "# named y_predicted\n",
    "y_predicted = grid_search.best_estimator_.predict(docs_test)"
   ]
  },
  {
   "cell_type": "code",
   "execution_count": 27,
   "metadata": {
    "collapsed": false
   },
   "outputs": [
    {
     "name": "stdout",
     "output_type": "stream",
     "text": [
      "             precision    recall  f1-score   support\n",
      "\n",
      "        neg       0.88      0.83      0.86       252\n",
      "        pos       0.84      0.89      0.86       248\n",
      "\n",
      "avg / total       0.86      0.86      0.86       500\n",
      "\n",
      "[[210  42]\n",
      " [ 28 220]]\n"
     ]
    },
    {
     "data": {
      "text/plain": [
       "<matplotlib.colorbar.Colorbar instance at 0x7fc390694368>"
      ]
     },
     "execution_count": 27,
     "metadata": {},
     "output_type": "execute_result"
    },
    {
     "data": {
      "image/png": "[encoded data removed]",
      "text/plain": [
       "<matplotlib.figure.Figure at 0x7fc39078cfd0>"
      ]
     },
     "metadata": {},
     "output_type": "display_data"
    }
   ],
   "source": [
    "# Print the classification report\n",
    "print(metrics.classification_report(y_test, y_predicted,\n",
    "                                    target_names=dataset.target_names))\n",
    "\n",
    "# Print and plot the confusion matrix\n",
    "cm = metrics.confusion_matrix(y_test, y_predicted)\n",
    "print(cm)\n",
    "\n",
    "plt.matshow(cm)\n",
    "plt.colorbar()"
   ]
  }
 ],
 "metadata": {
  "kernelspec": {
   "display_name": "Python 2",
   "language": "python",
   "name": "python2"
  },
  "language_info": {
   "codemirror_mode": {
    "name": "ipython",
    "version": 2
   },
   "file_extension": ".py",
   "mimetype": "text/x-python",
   "name": "python",
   "nbconvert_exporter": "python",
   "pygments_lexer": "ipython2",
   "version": "2.7.9"
  }
 },
 "nbformat": 4,
 "nbformat_minor": 0
}
